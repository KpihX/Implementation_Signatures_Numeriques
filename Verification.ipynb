{
 "cells": [
  {
   "cell_type": "markdown",
   "metadata": {},
   "source": [
    "# Verification\n",
    "---\n",
    "Ici on va vérifier que le message n'a pas été altéré en recalculant sa signature et en la comparant avec celle reçue"
   ]
  },
  {
   "cell_type": "markdown",
   "metadata": {},
   "source": [
    "## Dechiffrement du message signé\n",
    "---"
   ]
  },
  {
   "cell_type": "code",
   "execution_count": 8,
   "metadata": {},
   "outputs": [
    {
     "name": "stdout",
     "output_type": "stream",
     "text": [
      "Message signé = \n",
      " 1423486093834684304923184388447221676132257136666673732674072102525156824882584855051924977976045805227320852295345029291455342210776534589284646700064165156211895469234879876117354283626910174335602653112229250820025844134935059678045649175312666123822575369802034873953880299472453999154092609418394180509051126053496527225864174938470674957586109440003641204524669068609735316493398463172164216451279367698537745101443823534749914047740322295701280169713958781759130250054964576174703931401470234865851211119357929847625180699058001988360015809266654542571181597285992504042084684621432107733772172277231435351197\n",
      "\n",
      "Message haché reçu = \n",
      " e441e17cdbaccb456039f7cf142c0cf3\n"
     ]
    }
   ],
   "source": [
    "def decipherRSA(ciphertext: int, n: int, key: int) -> str:\n",
    "    \"\"\"\n",
    "    Decrypts an RSA ciphertext using the private key.\n",
    "\n",
    "    Args:\n",
    "        ciphertext (int): The encrypted message.\n",
    "        n (int): The modulus.\n",
    "        key (int): The decryption key (private exponent).\n",
    "\n",
    "    Returns:\n",
    "        str: The original plaintext message.\n",
    "    \"\"\"\n",
    "    # Extract individual digits from the ciphertext\n",
    "    msg_cipher = []\n",
    "    while ciphertext != 0:\n",
    "        ciphertext, remainder = divmod(ciphertext, n)\n",
    "        msg_cipher.append(remainder)\n",
    "\n",
    "    # Decrypt each block using modular exponentiation\n",
    "    msg_block = [str(pow(i, key, n)) for i in msg_cipher]\n",
    "\n",
    "    # Convert blocks back to characters\n",
    "    msg_padded = []\n",
    "    for block in msg_block:\n",
    "        block_padded = []\n",
    "        for i in range(len(block), 3, -3):\n",
    "            block_padded.append(chr(int(block[i - 3 : i])))\n",
    "        block_padded.append(chr(int(block[: i - 3])))\n",
    "        msg_padded.extend(reversed(block_padded))\n",
    "\n",
    "    return \"\".join(msg_padded)\n",
    "\n",
    "# Loading of the signed message and of the public key\n",
    "\n",
    "with open(\"Signature/SignedMessage.txt\", \"r\") as f:\n",
    "    signedMessage = int(f.read())\n",
    "\n",
    "with open(\"Signature/PublicKey.txt\", \"r\") as f:\n",
    "    n = int(f.readline())\n",
    "    e = int(f.readline())\n",
    "\n",
    "print(\"Message signé = \\n\", signedMessage)\n",
    "\n",
    "ReceivedhashMessage = decipherRSA(signedMessage, n, e)\n",
    "\n",
    "print(\"\\nMessage haché reçu = \\n\", ReceivedhashMessage)"
   ]
  },
  {
   "cell_type": "markdown",
   "metadata": {},
   "source": [
    "## Rehachage du message\n",
    "---"
   ]
  },
  {
   "cell_type": "code",
   "execution_count": 9,
   "metadata": {},
   "outputs": [
    {
     "name": "stdout",
     "output_type": "stream",
     "text": [
      "Message reçu = \n",
      " Salut! On fait un test de notre implÃ©mentation des signatures numÃ©riques avec MD5 et RSA!\n",
      "On va signer ce message et par la suite vÃ©rifier s'il n'a pas Ã©tÃ© altÃ©rÃ©!\n",
      "A plus pour la vÃ©rification...\n",
      "\n",
      "Message haché = \n",
      " e441e17cdbaccb456039f7cf142c0cf3\n"
     ]
    }
   ],
   "source": [
    "import math\n",
    "\n",
    "# MD5 Implementation\n",
    "\n",
    "def leftRotate(value: int, shift: int) -> int:\n",
    "    \"\"\"Performs a left rotation (circular shift) on a 32-bit integer.\"\"\"\n",
    "    return ((value << shift) | (value >> (32 - shift))) & 0xFFFFFFFF\n",
    "\n",
    "def MD5(message: str) -> str:\n",
    "    \"\"\"\n",
    "    Calculates the MD5 hash of the input message.\n",
    "\n",
    "    Args:\n",
    "        message (str): The input message to hash.\n",
    "\n",
    "    Returns:\n",
    "        str: The hexadecimal representation of the MD5 hash.\n",
    "    \"\"\"\n",
    "    # Initialize constants\n",
    "    K = [int(abs(math.sin(i + 1)) * 2 ** 32) for i in range(64)]\n",
    "    s = [7, 12, 17, 22] * 4 + [5, 9, 14, 20] * 4 + [4, 11, 16, 23] * 4 + [6, 10, 15, 21] * 4 # shifts values\n",
    "\n",
    "    # Convert the message to bytes\n",
    "    messageBytes = message.encode('utf-8')\n",
    "\n",
    "    # Initialize state variables\n",
    "    a, b, c, d = 0x67452301, 0xefcdab89, 0x98badcfe, 0x10325476\n",
    "\n",
    "    # Padding the message\n",
    "    messageLength = len(messageBytes) * 8\n",
    "    messageBytes += b'\\x80'\n",
    "    \n",
    "    # In fact len(messageBytes) * 8 must be equal to 56 * 8 (448) mod 64* 8 = 512\n",
    "    while len(messageBytes) % 64 != 56: \n",
    "        messageBytes += b'\\x00'\n",
    "    messageBytes += messageLength.to_bytes(8, byteorder='little')\n",
    "\n",
    "    # Process the message in Blocks of 64 bytes\n",
    "    for i in range(0, len(messageBytes), 64):\n",
    "        Block = messageBytes[i:i+64]\n",
    "        SubBlocks = [int.from_bytes(Block[j:j+4], byteorder='little') for j in range(0, 64, 4)]\n",
    "\n",
    "        A, B, C, D = a, b, c, d\n",
    "\n",
    "        for j in range(64):\n",
    "            if j <= 15:\n",
    "                F_func = (B & C) | (~B & D)\n",
    "                g = j\n",
    "            elif j <= 31:\n",
    "                F_func = (D & B) | (~D & C)\n",
    "                g = (5 * j + 1) % 16\n",
    "            elif j <= 47:\n",
    "                F_func = B ^ C ^ D\n",
    "                g = (3 * j + 5) % 16\n",
    "            else:\n",
    "                F_func = C ^ (B | ~D)\n",
    "                g = (7 * j) % 16\n",
    "\n",
    "            temp = D\n",
    "            D = C\n",
    "            C = B\n",
    "            B = (B + leftRotate(A + F_func + K[j] + SubBlocks[g], s[j])) & 0xFFFFFFFF\n",
    "            A = temp\n",
    "\n",
    "        a = (a + A) & 0xFFFFFFFF\n",
    "        b = (b + B) & 0xFFFFFFFF\n",
    "        c = (c + C) & 0xFFFFFFFF\n",
    "        d = (d + D) & 0xFFFFFFFF\n",
    "\n",
    "    # Concatenate the final state variables to obtain the MD5 hash\n",
    "    hashMD5 = (a.to_bytes(4, byteorder='little') +\n",
    "                 b.to_bytes(4, byteorder='little') +\n",
    "                 c.to_bytes(4, byteorder='little') +\n",
    "                 d.to_bytes(4, byteorder='little'))\n",
    "\n",
    "    # Convert the MD5 hash to hexadecimal representation\n",
    "    hashMD5Hex = ''.join(format(byte, '02x') for byte in hashMD5)\n",
    "\n",
    "    return hashMD5Hex\n",
    "\n",
    "# Opening of the message to be signed\n",
    "\n",
    "with open(\"Signature/Message.txt\", \"r\") as f:\n",
    "    message = f.read()\n",
    "\n",
    "print(\"Message reçu = \\n\", message)\n",
    "\n",
    "# Message hashing\n",
    "\n",
    "hashMessage = MD5(message)\n",
    "\n",
    "print(\"\\nMessage haché = \\n\", hashMessage)"
   ]
  },
  {
   "cell_type": "markdown",
   "metadata": {},
   "source": [
    "## Verification\n",
    "---"
   ]
  },
  {
   "cell_type": "code",
   "execution_count": 10,
   "metadata": {},
   "outputs": [
    {
     "name": "stdout",
     "output_type": "stream",
     "text": [
      "Message haché reçu = \n",
      " e441e17cdbaccb456039f7cf142c0cf3\n",
      "\n",
      "Message haché = \n",
      " e441e17cdbaccb456039f7cf142c0cf3\n",
      "\n",
      "Vérification réussie! Le message n'a  pas été altéré. Vous pouvez le lire en toute quiétude!\n"
     ]
    }
   ],
   "source": [
    "print(\"Message haché reçu = \\n\", ReceivedhashMessage)\n",
    "\n",
    "print(\"\\nMessage haché = \\n\", hashMessage)\n",
    "\n",
    "if ReceivedhashMessage == hashMessage:\n",
    "    print(\"\\nVérification réussie! Le message n'a  pas été altéré. Vous pouvez le lire en toute quiétude!\")\n",
    "else:\n",
    "    print(\"\\nEchec de la vérification! Le message a été altéré! Veuillez démander qu'on vous le renvoie!\")"
   ]
  }
 ],
 "metadata": {
  "kernelspec": {
   "display_name": "Python 3",
   "language": "python",
   "name": "python3"
  },
  "language_info": {
   "codemirror_mode": {
    "name": "ipython",
    "version": 3
   },
   "file_extension": ".py",
   "mimetype": "text/x-python",
   "name": "python",
   "nbconvert_exporter": "python",
   "pygments_lexer": "ipython3",
   "version": "3.12.1"
  }
 },
 "nbformat": 4,
 "nbformat_minor": 2
}
